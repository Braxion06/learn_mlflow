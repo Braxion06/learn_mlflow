{
 "cells": [
  {
   "cell_type": "markdown",
   "metadata": {},
   "source": [
    "MLflow quickstart and poc"
   ]
  },
  {
   "cell_type": "code",
   "execution_count": 1,
   "metadata": {},
   "outputs": [],
   "source": [
    "# Import all necessary libraries\n",
    "import socket\n",
    "import mlflow\n",
    "# import pandas as pd\n",
    "from sklearn.model_selection import train_test_split\n",
    "from sklearn.metrics import accuracy_score, precision_score, recall_score, \\\n",
    "                            f1_score, mean_squared_error\n",
    "from sklearn.linear_model import LogisticRegression\n",
    "from sklearn import datasets\n",
    "import time"
   ]
  },
  {
   "cell_type": "code",
   "execution_count": 2,
   "metadata": {},
   "outputs": [
    {
     "name": "stderr",
     "output_type": "stream",
     "text": [
      "2024/03/05 22:45:59 INFO mlflow.store.db.utils: Creating initial MLflow database tables...\n",
      "2024/03/05 22:45:59 INFO mlflow.store.db.utils: Updating database tables\n",
      "INFO  [alembic.runtime.migration] Context impl SQLiteImpl.\n",
      "INFO  [alembic.runtime.migration] Will assume non-transactional DDL.\n",
      "INFO  [alembic.runtime.migration] Context impl SQLiteImpl.\n",
      "INFO  [alembic.runtime.migration] Will assume non-transactional DDL.\n"
     ]
    },
    {
     "data": {
      "text/plain": [
       "<Experiment: artifact_location='file:///d:/Code/learn_mlflow/notebooks/mlruns/2', creation_time=1708793971171, experiment_id='2', last_update_time=1708793971171, lifecycle_stage='active', name='learn_mlflow', tags={}>"
      ]
     },
     "execution_count": 2,
     "metadata": {},
     "output_type": "execute_result"
    }
   ],
   "source": [
    "# Set up the mlflow instance and constants\n",
    "RANDOM_STATE = 1\n",
    "hostname = socket.gethostname()\n",
    "tags = {'host': hostname, 'algorithm': 'logistic_regression', 'compute_device': 'cpu',\n",
    "    'model_lifecycle': 'training', 'operation':'model_training' }\n",
    "# Creates the database for mlflow\n",
    "mlflow.set_tracking_uri('sqlite:///mlflow_tracking.db')\n",
    "# Using a mlflow server endpoint as tracking uri\n",
    "# mlflow.set_tracking_uri('http://127.0.0.1:5000')\n",
    "mlflow.set_experiment('learn_mlflow')"
   ]
  },
  {
   "cell_type": "code",
   "execution_count": 3,
   "metadata": {},
   "outputs": [
    {
     "name": "stdout",
     "output_type": "stream",
     "text": [
      "{'host': 'BRAXIONBUILD', 'algorithm': 'logistic_regression', 'compute_device': 'gpu', 'model_lifecycle': 'training', 'operation': 'model_training'}\n"
     ]
    }
   ],
   "source": [
    "tags['compute_device'] = 'gpu'\n",
    "print(tags)"
   ]
  },
  {
   "cell_type": "code",
   "execution_count": 4,
   "metadata": {},
   "outputs": [],
   "source": [
    "# Load the Iris dataset from sklearn\n",
    "x, y = datasets.load_iris(return_X_y=True)\n",
    "\n",
    "# Splits the data into training and test sets\n",
    "x_train, x_test, y_train, y_test = train_test_split(x, y, test_size=0.25,\n",
    "                                                random_state=RANDOM_STATE)\n",
    "\n",
    "# Define the hyperparameters\n",
    "params = {\n",
    "    'max_iter': 400,\n",
    "    'random_state': RANDOM_STATE,\n",
    "    'n_jobs':8,\n",
    "    'multi_class': 'auto'\n",
    "}\n",
    "\n",
    "# Train the model\n",
    "# Using **params, the ** is used to unpack the dictionary\n",
    "model = LogisticRegression(**params)\n",
    "model.fit(x_train, y_train)\n",
    "\n",
    "# Predict on the test set \n",
    "y_hat = model.predict(x_test)\n",
    "\n",
    "# Compute the metrics\n",
    "# accuracy = accuracy_score(y_test, y_hat), \n",
    "# print(accuracy)\n",
    "precision = precision_score(y_test, y_hat, average='macro')\n",
    "recall = recall_score(y_test, y_hat, average='macro')\n",
    "f1_s = f1_score(y_test, y_hat, average='macro')\n",
    "mse = mean_squared_error(y_test, y_hat)\n",
    "\n",
    "metrics = {\n",
    "    # 'accuracy': accuracy,\n",
    "    'precision': precision, \n",
    "    'recall': recall, \n",
    "    'f1_score': f1_s, \n",
    "    'mse': mse\n",
    "}"
   ]
  },
  {
   "cell_type": "code",
   "execution_count": 5,
   "metadata": {},
   "outputs": [],
   "source": [
    "# Check if there is an active run terminate it \n",
    "mlflow.end_run()\n",
    "\n",
    "# Start the MLflow run \n",
    "with mlflow.start_run():\n",
    "    time.sleep(15)\n",
    "    # Add a dinamyc tag\n",
    "    tags['compute_device'] = 'cpu'\n",
    "    \n",
    "    # Set the tags \n",
    "    mlflow.set_tags(tags)\n",
    "\n",
    "    # Log the hyperparameters\n",
    "    mlflow.log_params(params)\n",
    "\n",
    "    # Log the metrics\n",
    "    mlflow.log_metrics(metrics)\n",
    "\n",
    "    # Infer  the model signature (inputs and outputs)\n",
    "    signature = mlflow.models.infer_signature(x_train, model.predict(x_train))\n",
    "    '''\n",
    "    # Log the model\n",
    "    model_metadata = mlflow.sklearn.log_model(\n",
    "        sk_model=model,\n",
    "        artifact_path='iris_model',\n",
    "        signature=signature, \n",
    "        input_example=x_train, \n",
    "        registered_model_name='learn_mlflow_model'\n",
    "    ) \n",
    "    '''"
   ]
  }
 ],
 "metadata": {
  "kernelspec": {
   "display_name": "Python 3",
   "language": "python",
   "name": "python3"
  },
  "language_info": {
   "codemirror_mode": {
    "name": "ipython",
    "version": 3
   },
   "file_extension": ".py",
   "mimetype": "text/x-python",
   "name": "python",
   "nbconvert_exporter": "python",
   "pygments_lexer": "ipython3",
   "version": "3.11.7"
  }
 },
 "nbformat": 4,
 "nbformat_minor": 2
}
